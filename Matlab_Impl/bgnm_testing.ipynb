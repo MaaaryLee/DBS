{
 "cells": [
  {
   "cell_type": "code",
   "execution_count": 7,
   "id": "b6547b6a",
   "metadata": {},
   "outputs": [
    {
     "name": "stdout",
     "output_type": "stream",
     "text": [
      "0\n",
      "1\n",
      "2\n",
      "3\n",
      "4\n",
      "5\n",
      "6\n"
     ]
    },
    {
     "ename": "TypeError",
     "evalue": "cannot unpack non-iterable NoneType object",
     "output_type": "error",
     "traceback": [
      "\u001b[1;31m---------------------------------------------------------------------------\u001b[0m",
      "\u001b[1;31mTypeError\u001b[0m                                 Traceback (most recent call last)",
      "Cell \u001b[1;32mIn[7], line 12\u001b[0m\n\u001b[0;32m     10\u001b[0m terminated \u001b[38;5;241m=\u001b[39m \u001b[38;5;241m0\u001b[39m\n\u001b[0;32m     11\u001b[0m \u001b[38;5;28;01mwhile\u001b[39;00m terminated \u001b[38;5;241m!=\u001b[39m \u001b[38;5;241m1\u001b[39m:\n\u001b[1;32m---> 12\u001b[0m     observation, reward, terminated, truncated, info \u001b[38;5;241m=\u001b[39m \u001b[43mbgn\u001b[49m\u001b[38;5;241;43m.\u001b[39;49m\u001b[43mstep\u001b[49m\u001b[43m(\u001b[49m\u001b[43m)\u001b[49m\n\u001b[0;32m     13\u001b[0m     r1s\u001b[38;5;241m.\u001b[39mappend(info[\u001b[38;5;124m'\u001b[39m\u001b[38;5;124mr1\u001b[39m\u001b[38;5;124m'\u001b[39m])\n\u001b[0;32m     14\u001b[0m     r2s\u001b[38;5;241m.\u001b[39mappend(info[\u001b[38;5;124m'\u001b[39m\u001b[38;5;124mr2\u001b[39m\u001b[38;5;124m'\u001b[39m])\n",
      "File \u001b[1;32mc:\\Users\\ncart\\Programming\\DBS\\Matlab_Impl\\BGN_MC.py:45\u001b[0m, in \u001b[0;36mBGN_MC.step\u001b[1;34m(self, action, sim_time)\u001b[0m\n\u001b[0;32m     42\u001b[0m freq \u001b[38;5;241m=\u001b[39m \u001b[38;5;241m185\u001b[39m \u001b[38;5;241m*\u001b[39m ((action[\u001b[38;5;241m0\u001b[39m] \u001b[38;5;241m+\u001b[39m \u001b[38;5;241m1\u001b[39m)\u001b[38;5;241m/\u001b[39m\u001b[38;5;241m2\u001b[39m)\n\u001b[0;32m     43\u001b[0m amp \u001b[38;5;241m=\u001b[39m \u001b[38;5;241m5000\u001b[39m \u001b[38;5;241m*\u001b[39m ((action[\u001b[38;5;241m1\u001b[39m] \u001b[38;5;241m+\u001b[39m \u001b[38;5;241m1\u001b[39m)\u001b[38;5;241m/\u001b[39m\u001b[38;5;241m2\u001b[39m)\n\u001b[1;32m---> 45\u001b[0m terminated, _ \u001b[38;5;241m=\u001b[39m eng\u001b[38;5;241m.\u001b[39mbgn_step(freq, amp, sim_time, nargout\u001b[38;5;241m=\u001b[39m\u001b[38;5;241m2\u001b[39m)\n\u001b[0;32m     47\u001b[0m current_ei \u001b[38;5;241m=\u001b[39m \u001b[38;5;28mself\u001b[39m\u001b[38;5;241m.\u001b[39mcalculate_ei()\n\u001b[0;32m     48\u001b[0m r1_min \u001b[38;5;241m=\u001b[39m \u001b[38;5;241m-\u001b[39m\u001b[38;5;241m1.55\u001b[39m \n",
      "\u001b[1;31mTypeError\u001b[0m: cannot unpack non-iterable NoneType object"
     ]
    }
   ],
   "source": [
    "from BGN_MC import *\n",
    "import matplotlib.pyplot as plt\n",
    "\n",
    "bgn = BGN_MC(tmax=1000, pd=True)\n",
    "r1s = []\n",
    "r2s = []\n",
    "r3s = []\n",
    "for i in range(20):\n",
    "    bgn.reset()\n",
    "    terminated = 0\n",
    "    while terminated != 1:\n",
    "        observation, reward, terminated, truncated, info = bgn.step()\n",
    "        r1s.append(info['r1'])\n",
    "        r2s.append(info['r2'])\n",
    "        r3s.append(info['r3'])\n",
    "    print(i)"
   ]
  },
  {
   "cell_type": "code",
   "execution_count": 4,
   "id": "abbde021",
   "metadata": {},
   "outputs": [
    {
     "name": "stdout",
     "output_type": "stream",
     "text": [
      "Wrapping the env with a `Monitor` wrapper\n",
      "Wrapping the env in a DummyVecEnv.\n",
      "[ 0.08880901 -0.99997056]\n",
      "[ 0.20603561 -0.9999206 ]\n",
      "[ 0.20147848 -0.99993724]\n",
      "[ 8.1074238e-04 -9.9985105e-01]\n",
      "[-0.29391086 -0.99993366]\n",
      "[-0.25166714 -0.99995875]\n",
      "[-0.373392   -0.99970645]\n",
      "[-0.08505481 -0.9998556 ]\n",
      "[-0.3460325 -0.9998824]\n"
     ]
    }
   ],
   "source": [
    "from BGN_MC import *\n",
    "import matplotlib.pyplot as plt\n",
    "from stable_baselines3 import TD3 \n",
    "\n",
    "bgn = BGN_MC(tmax=1000, pd=True)\n",
    "model = TD3.load('../models/TD3/5000.zip', env=bgn)\n",
    "for i in range(1):\n",
    "    observation = bgn.reset()[0]\n",
    "    terminated = 0\n",
    "    while terminated != 1:\n",
    "        action = model.predict(observation)[0]\n",
    "        print(action)\n",
    "        observation, reward, terminated, truncated, info = bgn.step(action)"
   ]
  },
  {
   "cell_type": "code",
   "execution_count": 5,
   "id": "c75b3b57",
   "metadata": {},
   "outputs": [
    {
     "name": "stdout",
     "output_type": "stream",
     "text": [
      "0.5\n"
     ]
    }
   ],
   "source": [
    "print(info['r3'])"
   ]
  }
 ],
 "metadata": {
  "kernelspec": {
   "display_name": "Python 3",
   "language": "python",
   "name": "python3"
  },
  "language_info": {
   "codemirror_mode": {
    "name": "ipython",
    "version": 3
   },
   "file_extension": ".py",
   "mimetype": "text/x-python",
   "name": "python",
   "nbconvert_exporter": "python",
   "pygments_lexer": "ipython3",
   "version": "3.12.0"
  }
 },
 "nbformat": 4,
 "nbformat_minor": 5
}
